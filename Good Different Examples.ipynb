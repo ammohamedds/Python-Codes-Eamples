{
 "cells": [
  {
   "cell_type": "code",
   "execution_count": 7,
   "metadata": {},
   "outputs": [],
   "source": [
    "#https://www.youtube.com/watch?v=u9ZqynGOXl8\n",
    "   "
   ]
  },
  {
   "cell_type": "code",
   "execution_count": 112,
   "metadata": {},
   "outputs": [],
   "source": [
    " def T1():\n",
    "    print(\"hello\" * 3)"
   ]
  },
  {
   "cell_type": "code",
   "execution_count": 113,
   "metadata": {},
   "outputs": [
    {
     "name": "stdout",
     "output_type": "stream",
     "text": [
      "hellohellohello\n"
     ]
    }
   ],
   "source": [
    "T1()"
   ]
  },
  {
   "cell_type": "code",
   "execution_count": 11,
   "metadata": {},
   "outputs": [],
   "source": [
    "def T2():\n",
    "    x, y = 4, 5\n",
    "    y, x = x, y\n",
    "    print(x)\n",
    "    print(y)"
   ]
  },
  {
   "cell_type": "code",
   "execution_count": 13,
   "metadata": {},
   "outputs": [
    {
     "name": "stdout",
     "output_type": "stream",
     "text": [
      "5\n",
      "4\n"
     ]
    }
   ],
   "source": [
    "T2()"
   ]
  },
  {
   "cell_type": "code",
   "execution_count": 33,
   "metadata": {
    "scrolled": false
   },
   "outputs": [],
   "source": [
    "def T3():\n",
    "    z = 5\n",
    "    lst = [1] * z  # repeat this List z times\n",
    "    print(lst[:-1])\n",
    "    print(lst[:])"
   ]
  },
  {
   "cell_type": "code",
   "execution_count": 34,
   "metadata": {},
   "outputs": [
    {
     "name": "stdout",
     "output_type": "stream",
     "text": [
      "[1, 1, 1, 1]\n",
      "[1, 1, 1, 1, 1]\n"
     ]
    }
   ],
   "source": [
    "T3()"
   ]
  },
  {
   "cell_type": "code",
   "execution_count": 35,
   "metadata": {},
   "outputs": [],
   "source": [
    "def T4():\n",
    "    z = 4\n",
    "    lst = [0,1] * z\n",
    "    print(lst[:-1])\n",
    "    print(lst[:])"
   ]
  },
  {
   "cell_type": "code",
   "execution_count": 36,
   "metadata": {},
   "outputs": [
    {
     "name": "stdout",
     "output_type": "stream",
     "text": [
      "[0, 1, 0, 1, 0, 1, 0]\n",
      "[0, 1, 0, 1, 0, 1, 0, 1]\n"
     ]
    }
   ],
   "source": [
    "T4()"
   ]
  },
  {
   "cell_type": "code",
   "execution_count": 44,
   "metadata": {},
   "outputs": [],
   "source": [
    "def T5():\n",
    "    x , y = 2, 4\n",
    "    print('x ** y =',x**y)"
   ]
  },
  {
   "cell_type": "code",
   "execution_count": 45,
   "metadata": {},
   "outputs": [
    {
     "name": "stdout",
     "output_type": "stream",
     "text": [
      "x ** y = 16\n"
     ]
    }
   ],
   "source": [
    "T5()"
   ]
  },
  {
   "cell_type": "code",
   "execution_count": 77,
   "metadata": {},
   "outputs": [],
   "source": [
    "def T6():\n",
    "    def help(x):\n",
    "        return x % 2 == 0\n",
    "\n",
    "    lst = [i**2 for i in range(10)] \n",
    "    print(lst)\n",
    "    lst = filter(help, lst) \n",
    "   # print(list(lst)[:]) #[0, 4, 16, 36, 64]\n",
    "    print(list(lst)[::2])"
   ]
  },
  {
   "cell_type": "code",
   "execution_count": 78,
   "metadata": {},
   "outputs": [
    {
     "name": "stdout",
     "output_type": "stream",
     "text": [
      "[0, 1, 4, 9, 16, 25, 36, 49, 64, 81]\n",
      "[0, 16, 64]\n"
     ]
    }
   ],
   "source": [
    "T6()"
   ]
  },
  {
   "cell_type": "code",
   "execution_count": 82,
   "metadata": {},
   "outputs": [
    {
     "name": "stdout",
     "output_type": "stream",
     "text": [
      "0\n",
      "1\n"
     ]
    }
   ],
   "source": [
    "print(int(False))\n",
    "print(int(True))"
   ]
  },
  {
   "cell_type": "code",
   "execution_count": 101,
   "metadata": {},
   "outputs": [],
   "source": [
    "def T7():\n",
    "\tz = 0\n",
    "\tfor i in range(1, 10 ):\n",
    "\t\tif (i + 1 // 2) % 8 == 0:  # 1 // 2 is always zero, so if condition will meet with i =7\n",
    "\t\t\tbreak  # for loop \n",
    "\t\telse:\n",
    "\t\t\tz += int(i % 2 == 0)\n",
    "\t\t\tprint(z)\n",
    "\telse:\n",
    "\t\tprint('end')  # in case of loop finished without goes to break for example for i in range(1, 6):"
   ]
  },
  {
   "cell_type": "code",
   "execution_count": 102,
   "metadata": {},
   "outputs": [
    {
     "name": "stdout",
     "output_type": "stream",
     "text": [
      "0\n",
      "1\n",
      "1\n",
      "2\n",
      "2\n",
      "3\n",
      "3\n"
     ]
    }
   ],
   "source": [
    "T7()"
   ]
  },
  {
   "cell_type": "code",
   "execution_count": 103,
   "metadata": {},
   "outputs": [],
   "source": [
    "def T8():\n",
    "\timport math\n",
    "\n",
    "\tfor i in range(1, 100):\n",
    "\t\tif math.sqrt(i) == (i - 5)**2:\n",
    "\t\t\tprint(i)\n",
    "\t\t\tbreak\n",
    "\telse:\n",
    "\t\tprint('no')"
   ]
  },
  {
   "cell_type": "code",
   "execution_count": 104,
   "metadata": {},
   "outputs": [
    {
     "name": "stdout",
     "output_type": "stream",
     "text": [
      "no\n"
     ]
    }
   ],
   "source": [
    "T8()"
   ]
  },
  {
   "cell_type": "code",
   "execution_count": 106,
   "metadata": {},
   "outputs": [],
   "source": [
    "def T9():\n",
    "\tclass A:\n",
    "\t\tdef __init__(self, x):\n",
    "\t\t\tself.x = x\n",
    "\n",
    "\t\tdef __eq__(self, o):\n",
    "\t\t\treturn self.x == o.x\n",
    "\n",
    "\ta = A(2)\n",
    "\tb = A(2)\n",
    "\tprint(a == b)\n",
    "\tprint(a is b)\n",
    "\tprint(b is a)\n",
    "\tprint(a is a)\n",
    "\tprint(a == a)"
   ]
  },
  {
   "cell_type": "code",
   "execution_count": 107,
   "metadata": {},
   "outputs": [
    {
     "name": "stdout",
     "output_type": "stream",
     "text": [
      "True\n",
      "False\n",
      "False\n",
      "True\n",
      "True\n"
     ]
    }
   ],
   "source": [
    "T9()"
   ]
  },
  {
   "cell_type": "code",
   "execution_count": 118,
   "metadata": {},
   "outputs": [],
   "source": [
    "def T10():\n",
    "\tclass A:\n",
    "\t\tdef __init__(self, x, y):\n",
    "\t\t\tself.x = x\n",
    "\t\t\tself.y = y\n",
    "\n",
    "\t\tdef print(self):\n",
    "\t\t\tprint(self.x, self.y)\n",
    "\n",
    "\tclass B(A):   # Class in inherted from A\n",
    "\t\tdef print(self):\n",
    "\t\t\tprint(self.y, self.x)\n",
    "\n",
    "\tclass C(B):  # Class in inherted from B\n",
    "\t\tdef __init__(self, x, y, z):\n",
    "\t\t\tsuper().__init__(x, y)\n",
    "\t\t\tself.z = z\n",
    "\n",
    "\td = A(2, 4)\n",
    "\te = B(4, 5)\n",
    "\tg = C(3, 4, 7)\n",
    "\n",
    "\td.print()\n",
    "\te.print()\n",
    "\tg.print()\n",
    "\tg.x = g.z\n",
    "\tg.print()\n"
   ]
  },
  {
   "cell_type": "code",
   "execution_count": 119,
   "metadata": {},
   "outputs": [
    {
     "name": "stdout",
     "output_type": "stream",
     "text": [
      "2 4\n",
      "5 4\n",
      "4 3\n",
      "4 7\n"
     ]
    }
   ],
   "source": [
    "T10()"
   ]
  },
  {
   "cell_type": "code",
   "execution_count": 146,
   "metadata": {},
   "outputs": [],
   "source": [
    "def T11():\n",
    "\tdef x(z):\n",
    "\t\tdef q(x, y):\n",
    "\t\t\tx = y + z + x\n",
    "\t\t\tprint(x)\n",
    "\n",
    "\t\treturn q\n",
    "\n",
    "\tfor i in range(10):\n",
    "\t\tfunc = x(i)\n",
    "#\t\tfunc(1, -1)\n",
    "\t\tfunc(i, i)\n",
    "\n"
   ]
  },
  {
   "cell_type": "code",
   "execution_count": 147,
   "metadata": {},
   "outputs": [
    {
     "name": "stdout",
     "output_type": "stream",
     "text": [
      "0\n",
      "3\n",
      "6\n",
      "9\n",
      "12\n",
      "15\n",
      "18\n",
      "21\n",
      "24\n",
      "27\n"
     ]
    }
   ],
   "source": [
    "T11()"
   ]
  },
  {
   "cell_type": "code",
   "execution_count": 150,
   "metadata": {},
   "outputs": [],
   "source": [
    "def T12():\n",
    "\tdef d(f):\n",
    "\t\tdef w(*args, **kwargs):\n",
    "\t\t\tr = f(*args, **kwargs) \n",
    "\t\t\tr += 1 \n",
    "\t\t\treturn r \n",
    "\n",
    "\t\treturn w\n",
    "\n",
    "\t@d\n",
    "\tdef a(x):\n",
    "\t\treturn x + 1\n",
    "\n",
    "\tprint(a(7))"
   ]
  },
  {
   "cell_type": "code",
   "execution_count": 151,
   "metadata": {},
   "outputs": [
    {
     "name": "stdout",
     "output_type": "stream",
     "text": [
      "9\n"
     ]
    }
   ],
   "source": [
    "T12()"
   ]
  },
  {
   "cell_type": "code",
   "execution_count": 154,
   "metadata": {},
   "outputs": [
    {
     "name": "stdout",
     "output_type": "stream",
     "text": [
      "a b c\n",
      "['a', 'b', 'c']\n",
      "a b c\n"
     ]
    }
   ],
   "source": [
    "print('a','b','c')\n",
    "print(['a','b','c'])\n",
    "print(*['a','b','c'])"
   ]
  },
  {
   "cell_type": "code",
   "execution_count": 158,
   "metadata": {},
   "outputs": [],
   "source": [
    "def T13():\n",
    "\tprint(*list(map(lambda x: chr(ord(x) + 1), [\"a\", \"b\", \"c\"])))\n",
    "\tprint(list(map(lambda x: chr(ord(x) + 1), [\"a\", \"b\", \"c\"])))\n"
   ]
  },
  {
   "cell_type": "code",
   "execution_count": 159,
   "metadata": {},
   "outputs": [
    {
     "name": "stdout",
     "output_type": "stream",
     "text": [
      "b c d\n",
      "['b', 'c', 'd']\n"
     ]
    }
   ],
   "source": [
    "T13()"
   ]
  },
  {
   "cell_type": "code",
   "execution_count": 160,
   "metadata": {},
   "outputs": [],
   "source": [
    "def T14():\n",
    "\tx = 0.1\n",
    "\ty = 0.10000000000000001\n",
    "\tprint(x == y)"
   ]
  },
  {
   "cell_type": "code",
   "execution_count": 161,
   "metadata": {},
   "outputs": [
    {
     "name": "stdout",
     "output_type": "stream",
     "text": [
      "True\n"
     ]
    }
   ],
   "source": [
    "T14()"
   ]
  },
  {
   "cell_type": "code",
   "execution_count": 169,
   "metadata": {},
   "outputs": [],
   "source": [
    "def T15():\n",
    "\tx = [True, 1, \"a\", \"b\", \"2\"]\n",
    "\tF = [\"\", False, \"\", \"\"]\n",
    "\tprint(any(x)) \n",
    "\tprint(any(F)) "
   ]
  },
  {
   "cell_type": "code",
   "execution_count": 170,
   "metadata": {},
   "outputs": [
    {
     "name": "stdout",
     "output_type": "stream",
     "text": [
      "True\n",
      "False\n"
     ]
    }
   ],
   "source": [
    "T15()"
   ]
  },
  {
   "cell_type": "code",
   "execution_count": 171,
   "metadata": {},
   "outputs": [],
   "source": [
    "def T16():\n",
    "\tx = [\"a\", 1, 2, 3, 4]\n",
    "\ty = z = x\n",
    "\tz[1] = 7\n",
    "\ty[3] = 2\n",
    "\tx[2] = 9\n",
    "\tprint(x)\n",
    "\tprint(y)\n",
    "\tprint(z)"
   ]
  },
  {
   "cell_type": "code",
   "execution_count": 172,
   "metadata": {},
   "outputs": [
    {
     "name": "stdout",
     "output_type": "stream",
     "text": [
      "['a', 7, 9, 2, 4]\n",
      "['a', 7, 9, 2, 4]\n",
      "['a', 7, 9, 2, 4]\n"
     ]
    }
   ],
   "source": [
    "T16()"
   ]
  },
  {
   "cell_type": "code",
   "execution_count": 173,
   "metadata": {},
   "outputs": [],
   "source": [
    "def T16():\n",
    "\tprint(1 == True)\n",
    "\tprint(\"1\" == 1)"
   ]
  },
  {
   "cell_type": "code",
   "execution_count": 174,
   "metadata": {},
   "outputs": [
    {
     "name": "stdout",
     "output_type": "stream",
     "text": [
      "True\n",
      "False\n"
     ]
    }
   ],
   "source": [
    "T16()"
   ]
  },
  {
   "cell_type": "code",
   "execution_count": 175,
   "metadata": {},
   "outputs": [],
   "source": [
    "def T17():\n",
    "\tx = b'1001'\n",
    "\ty = b'1010'\n",
    "\tz = x + y\n",
    "\tprint(z)\n",
    "\n",
    "def T18():\n",
    "\tx = 0b1001\n",
    "\ty = 0b1010\n",
    "\tz = x + y\n",
    "\tprint(z)"
   ]
  },
  {
   "cell_type": "code",
   "execution_count": 176,
   "metadata": {},
   "outputs": [
    {
     "name": "stdout",
     "output_type": "stream",
     "text": [
      "b'10011010'\n",
      "19\n"
     ]
    }
   ],
   "source": [
    "T17()\n",
    "T18()"
   ]
  },
  {
   "cell_type": "markdown",
   "metadata": {},
   "source": [
    "### Other Examples\n",
    "https://treyhunner.com/2018/10/asterisks-in-python-what-they-are-and-how-to-use-them/\n",
    "https://treyhunner.com/2018/04/keyword-arguments-in-python/"
   ]
  },
  {
   "cell_type": "code",
   "execution_count": 178,
   "metadata": {},
   "outputs": [
    {
     "name": "stdout",
     "output_type": "stream",
     "text": [
      "lemon pear watermelon tomato\n",
      "lemon pear watermelon tomato\n"
     ]
    }
   ],
   "source": [
    "fruits = ['lemon', 'pear', 'watermelon', 'tomato']\n",
    "print(fruits[0], fruits[1], fruits[2], fruits[3])\n",
    "print(*fruits)\n",
    "#That print(*fruits) line is passing all of the items in the fruits list into the print function call as separate arguments, without us even needing to know how many arguments are in the list."
   ]
  },
  {
   "cell_type": "code",
   "execution_count": 179,
   "metadata": {},
   "outputs": [
    {
     "name": "stdout",
     "output_type": "stream",
     "text": [
      "2 1 3 4 7 lemon pear watermelon tomato\n"
     ]
    }
   ],
   "source": [
    "fruits = ['lemon', 'pear', 'watermelon', 'tomato']\n",
    "numbers = [2, 1, 3, 4, 7]\n",
    "print(*numbers, *fruits)"
   ]
  },
  {
   "cell_type": "code",
   "execution_count": 180,
   "metadata": {},
   "outputs": [
    {
     "data": {
      "text/plain": [
       "'2020-01-01.txt'"
      ]
     },
     "execution_count": 180,
     "metadata": {},
     "output_type": "execute_result"
    }
   ],
   "source": [
    "date_info = {'year': \"2020\", 'month': \"01\", 'day': \"01\"}\n",
    "filename = \"{year}-{month}-{day}.txt\".format(**date_info)\n",
    "filename\n",
    "#The ** operator does something similar, but with keyword arguments. The ** operator allows us to take a dictionary of key-value pairs and unpack it into keyword arguments in a function call.\n"
   ]
  },
  {
   "cell_type": "code",
   "execution_count": 182,
   "metadata": {},
   "outputs": [
    {
     "data": {
      "text/plain": [
       "'2020-01-01-Beethoven-Symphony No 5.txt'"
      ]
     },
     "execution_count": 182,
     "metadata": {},
     "output_type": "execute_result"
    }
   ],
   "source": [
    "date_info = {'year': \"2020\", 'month': \"01\", 'day': \"01\"}\n",
    "track_info = {'artist': \"Beethoven\", 'title': 'Symphony No 5'}\n",
    "filename = \"{year}-{month}-{day}-{artist}-{title}.txt\".format(\n",
    "     **date_info,\n",
    "    **track_info,\n",
    " )\n",
    "filename"
   ]
  },
  {
   "cell_type": "code",
   "execution_count": 183,
   "metadata": {},
   "outputs": [],
   "source": [
    "#To accept keyword-only arguments, we can put named arguments after a * usage when defining our function:\n",
    "def get_multiple(*keys, dictionary, default=None):\n",
    "    return [\n",
    "        dictionary.get(key, default)\n",
    "        for key in keys\n",
    "    ]"
   ]
  },
  {
   "cell_type": "code",
   "execution_count": 184,
   "metadata": {},
   "outputs": [
    {
     "data": {
      "text/plain": [
       "['yellow', 'red', 'unknown']"
      ]
     },
     "execution_count": 184,
     "metadata": {},
     "output_type": "execute_result"
    }
   ],
   "source": [
    "fruits = {'lemon': 'yellow', 'orange': 'orange', 'tomato': 'red'}\n",
    "get_multiple('lemon', 'tomato', 'squash', dictionary=fruits, default='unknown')"
   ]
  }
 ],
 "metadata": {
  "kernelspec": {
   "display_name": "Python 3",
   "language": "python",
   "name": "python3"
  },
  "language_info": {
   "codemirror_mode": {
    "name": "ipython",
    "version": 3
   },
   "file_extension": ".py",
   "mimetype": "text/x-python",
   "name": "python",
   "nbconvert_exporter": "python",
   "pygments_lexer": "ipython3",
   "version": "3.7.6"
  }
 },
 "nbformat": 4,
 "nbformat_minor": 4
}
